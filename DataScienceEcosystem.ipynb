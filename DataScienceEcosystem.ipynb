{
 "cells": [
  {
   "cell_type": "markdown",
   "id": "844a9048-7f7e-4a31-91e0-5085a071e2fe",
   "metadata": {},
   "source": [
    "# Data Science Tools and Ecosystem"
   ]
  },
  {
   "cell_type": "markdown",
   "id": "4d00d70f-539b-4b0f-9a41-17e20c551634",
   "metadata": {},
   "source": [
    "In this notebook, Data Science Tools and Ecosystem are summarized."
   ]
  },
  {
   "cell_type": "markdown",
   "id": "ad25658d-3c6e-4ed4-b170-03be1451cfdf",
   "metadata": {},
   "source": [
    "**Objectives:**\n",
    "* List popular languages of Data Science.\n",
    "* List commonly used libraries by Data Scientists.\n",
    "* List some of the open source development environment.\n",
    "* Evaluating arithmetic expressions in Python."
   ]
  },
  {
   "cell_type": "markdown",
   "id": "0d6f6282-344f-4181-bff4-c6bfc4a6606e",
   "metadata": {},
   "source": [
    "Some of the popular languages that Data Scientists use are:\n",
    "1. Python\n",
    "2. R\n",
    "3. Scala\n",
    "4. Julia"
   ]
  },
  {
   "cell_type": "markdown",
   "id": "c3fa3aa2-2f3d-4106-9c8f-7cbff5bfbae7",
   "metadata": {},
   "source": [
    "Some of the commonly used libraries used by Data Scientists include:\n",
    "1. NumPy\n",
    "2. Pandas\n",
    "3. TensorFlow\n",
    "4. Scikit-learn"
   ]
  },
  {
   "cell_type": "markdown",
   "id": "90d1133f-6cdb-4704-82ab-a2052c340bdd",
   "metadata": {},
   "source": [
    "| Data Science Tools |\n",
    "|--------------------|\n",
    "|  R Studio          |\n",
    "| Apache Spark       |\n",
    "| Tensor Flow        |"
   ]
  },
  {
   "cell_type": "markdown",
   "id": "abee7256-609c-4ca4-9c75-240671502e23",
   "metadata": {},
   "source": [
    "### Below are a few examples of evaluating arithmetic expressions in Python\n",
    "eval(\"1024 * 1024\")\n",
    "eval(\"24 + 24\")\n",
    "eval(\"2 ** 8\")"
   ]
  },
  {
   "cell_type": "code",
   "execution_count": 1,
   "id": "d64ff8f8-b202-440a-bbf3-67b6c217609a",
   "metadata": {
    "tags": []
   },
   "outputs": [
    {
     "data": {
      "text/plain": [
       "17"
      ]
     },
     "execution_count": 1,
     "metadata": {},
     "output_type": "execute_result"
    }
   ],
   "source": [
    "# This is a simple arithmetic expression to multiply then add integers.\n",
    "(3*4)+5"
   ]
  },
  {
   "cell_type": "code",
   "execution_count": 2,
   "id": "7d3142d9-4883-45d6-90c7-dc435ab7a207",
   "metadata": {
    "tags": []
   },
   "outputs": [
    {
     "name": "stdout",
     "output_type": "stream",
     "text": [
      "3.3333333333333335\n"
     ]
    }
   ],
   "source": [
    "#This will convert 200 minutes to hours by diving by 60.\n",
    "minutes = 200\n",
    "hours = minutes/60\n",
    "print(hours)"
   ]
  },
  {
   "cell_type": "markdown",
   "id": "8b51a194-e6e2-4be8-b587-9863d8c20012",
   "metadata": {},
   "source": [
    "**Author**\n",
    "name: Pratik Kumar"
   ]
  }
 ],
 "metadata": {
  "kernelspec": {
   "display_name": "Python",
   "language": "python",
   "name": "conda-env-python-py"
  },
  "language_info": {
   "codemirror_mode": {
    "name": "ipython",
    "version": 3
   },
   "file_extension": ".py",
   "mimetype": "text/x-python",
   "name": "python",
   "nbconvert_exporter": "python",
   "pygments_lexer": "ipython3",
   "version": "3.7.12"
  }
 },
 "nbformat": 4,
 "nbformat_minor": 5
}
